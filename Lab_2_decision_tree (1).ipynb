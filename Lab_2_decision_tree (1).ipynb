{
  "cells": [
    {
      "cell_type": "markdown",
      "source": [
        "# **Lab 2: Decision Tree**"
      ],
      "metadata": {
        "id": "TpNXBgfPhIl6"
      }
    },
    {
      "cell_type": "markdown",
      "metadata": {
        "papermill": {
          "duration": 0.023267,
          "end_time": "2020-12-06T07:07:23.227544",
          "exception": false,
          "start_time": "2020-12-06T07:07:23.204277",
          "status": "completed"
        },
        "tags": [],
        "id": "P9rpOz4_CGtv"
      },
      "source": [
        "## Workings Of Decision Tree\n",
        "* At the root node decision tree selects feature to split the data in two major categories.\n",
        "* So at the end of root node we have two decision rules and two sub trees\n",
        "* Data will again be divided in two categories in each sub tree\n",
        "* This process will continue until every training example is grouped together.\n",
        "* So at the end of decision tree we end up with leaf node. Which represent the class or a continuous value that we are trying predict\n",
        "\n",
        "## Criteria To Split The Data\n",
        "The objective of decision tree is to split the data in such a way that at the end we have different groups of data which has more similarity and less randomness/impurity. In order to achieve this, every split in decision tree must reduce the randomness.\n",
        "Decision tree uses 'entropy' or 'gini' selection criteria to split the data.\n",
        "Note: We are going to use sklearn library to test classification. 'entropy' or 'gini' are selection criteria for classifier.\n",
        "### Entropy\n",
        "In order to find the best feature which will reduce the randomness after a split, we can compare the randomness before and after the split for every feature. In the end we choose the feature which will provide the highest reduction in randomness. Formally randomness in data is known as 'Entropy' and difference between the 'Entropy' before and after split is known as 'Information Gain'. Since in case of decision tree we may have multiple branches, information gain formula can be written as,\n",
        "\n",
        "```\n",
        "    Information Gain= Entropy(Parent Decision Node)–(Average Entropy(Child Nodes))\n",
        "```\n",
        "\n",
        "'i' in below Entropy formula represent the target classes \n",
        "\n",
        "   ![entropy_formula](https://raw.githubusercontent.com/satishgunjal/images/master/entropy_formula.png)\n",
        "\n",
        "So in case of 'Entropy', decision tree will split the data using the feature that provides the highest information gain.\n",
        "\n",
        "### Gini\n",
        "In case of gini impurity, we pick a random data point in our dataset. Then randomly classify it according to the class distribution in the dataset. So it becomes very important to know the accuracy of this random classification. Gini impurity gives us the probability of incorrect classification. We’ll determine the quality of the split by weighting the impurity of each branch by how many elements it has. Resulting value is called as 'Gini Gain' or 'Gini Index'. This is what’s used to pick the best split in a decision tree. Higher the Gini Gain, better the split\n",
        "\n",
        "'i' in below Gini formula represent the target classes \n",
        "\n",
        "   ![gini_formula](https://raw.githubusercontent.com/satishgunjal/images/master/gini_formula.png)\n",
        "\n",
        "So in case of 'gini', decision tree will split the data using the feature that provides the highest gini gain.\n",
        "\n",
        "### So Which Should We Use?\n",
        "Gini impurity is computationally faster as it doesn’t require calculating logarithmic functions, though in reality neither metric results in a more accurate tree than the other. Here we will use entropy in this lab. "
      ]
    },
    {
      "cell_type": "markdown",
      "metadata": {
        "papermill": {
          "duration": 0.024781,
          "end_time": "2020-12-06T07:07:23.276362",
          "exception": false,
          "start_time": "2020-12-06T07:07:23.251581",
          "status": "completed"
        },
        "tags": [],
        "id": "RVj7eNjTCGtx"
      },
      "source": [
        "# Advantages Of Decision Tree\n",
        "* Simple to understand and to interpret. Trees can be visualized.\n",
        "* Requires little data preparation. Other techniques often require data normalization, dummy variables need to be created and blank values to be removed. Note however that this module does not support missing values.\n",
        "* Able to handle both numerical and categorical data.\n",
        "* Able to handle multi-output problems.\n",
        "* Uses a white box model. Results are easy to interpret.\n",
        "* Possible to validate a model using statistical tests. That makes it possible to account for the reliability of the model."
      ]
    },
    {
      "cell_type": "markdown",
      "metadata": {
        "papermill": {
          "duration": 0.023346,
          "end_time": "2020-12-06T07:07:23.323807",
          "exception": false,
          "start_time": "2020-12-06T07:07:23.300461",
          "status": "completed"
        },
        "tags": [],
        "id": "YtOG9hkxCGtx"
      },
      "source": [
        "# Disadvantages Of Decision Tree\n",
        "* Decision-tree learners can create over-complex trees that do not generalize the data well. This is called overfitting. Mechanisms such as pruning, setting the minimum number of samples required at a leaf node or setting the maximum depth of the tree are necessary to avoid this problem.\n",
        "* Decision trees can be unstable because small variations in the data might result in a completely different tree being generated. This problem is mitigated by using decision trees within an ensemble.\n",
        "* Decision tree learners create biased trees if some classes dominate. It is therefore recommended to balance the dataset prior to fitting with the decision tree."
      ]
    },
    {
      "cell_type": "markdown",
      "metadata": {
        "papermill": {
          "duration": 0.023346,
          "end_time": "2020-12-06T07:07:23.370815",
          "exception": false,
          "start_time": "2020-12-06T07:07:23.347469",
          "status": "completed"
        },
        "tags": [],
        "id": "y2uVtl09CGty"
      },
      "source": [
        "# Classification Problem Example\n",
        "For classification exercise we are going to use sklearns iris plant dataset.\n",
        "Objective is to classify iris flowers among three species (setosa, versicolor or virginica) from measurements of length and width of sepals and petals\n",
        "\n",
        "## Understanding the IRIS dataset\n",
        "* iris.DESCR > Complete description of dataset\n",
        "* iris.data > Data to learn. Each training set is 4 digit array of features. Total 150 training sets\n",
        "* iris.feature_names > Array of all 4 feature ['sepal length (cm)','sepal width cm)','petal length (cm)','petal width (cm)']\n",
        "* iris.filename > CSV file name\n",
        "* iris.target > The classification label. For every training set there is one classification label(0,1,2). Here 0 for setosa, 1 for versicolor and 2 for virginica\n",
        "* iris.target_names > the meaning of the features. It's an array >> ['setosa', 'versicolor', 'virginica']\n",
        "\n",
        "From above details its clear that X = 'iris.data' and y= 'iris.target'\n",
        "\n",
        "![Iris_setosa](https://raw.githubusercontent.com/satishgunjal/images/master/iris_species.png)\n",
        "\n",
        "<sub><sup>Image from [Machine Learning in R for beginners](https://www.datacamp.com/community/tutorials/machine-learning-in-r)</sup></sub>"
      ]
    },
    {
      "cell_type": "markdown",
      "metadata": {
        "papermill": {
          "duration": 0.024449,
          "end_time": "2020-12-06T07:07:23.419835",
          "exception": false,
          "start_time": "2020-12-06T07:07:23.395386",
          "status": "completed"
        },
        "tags": [],
        "id": "rzxMIb-bCGtz"
      },
      "source": [
        "## Import Libraries"
      ]
    },
    {
      "cell_type": "code",
      "execution_count": 1,
      "metadata": {
        "execution": {
          "iopub.execute_input": "2020-12-06T07:07:23.477652Z",
          "iopub.status.busy": "2020-12-06T07:07:23.476798Z",
          "iopub.status.idle": "2020-12-06T07:07:24.878267Z",
          "shell.execute_reply": "2020-12-06T07:07:24.877658Z"
        },
        "papermill": {
          "duration": 1.432026,
          "end_time": "2020-12-06T07:07:24.878386",
          "exception": false,
          "start_time": "2020-12-06T07:07:23.446360",
          "status": "completed"
        },
        "tags": [],
        "id": "q1q8tWaYCGt0"
      },
      "outputs": [],
      "source": [
        "import pandas as pd #python library for working with data sets\n",
        "import numpy as np #provides an array object\n",
        "from sklearn import datasets #used for iris dataset\n",
        "from sklearn import model_selection #select models from here\n",
        "from sklearn import tree #used for decision tree\n",
        "import matplotlib.pyplot as plt\n",
        "%matplotlib inline\n",
        "import graphviz #display decision tree"
      ]
    },
    {
      "cell_type": "markdown",
      "source": [
        "### **Question: List the purpose of each library in comments in the code above**"
      ],
      "metadata": {
        "id": "2m8U_-KETZlv"
      }
    },
    {
      "cell_type": "markdown",
      "metadata": {
        "papermill": {
          "duration": 0.023761,
          "end_time": "2020-12-06T07:07:24.926480",
          "exception": false,
          "start_time": "2020-12-06T07:07:24.902719",
          "status": "completed"
        },
        "tags": [],
        "id": "G8Twwg3mCGt2"
      },
      "source": [
        "## Load The Data"
      ]
    },
    {
      "cell_type": "code",
      "source": [
        "iris = datasets.load_iris()\n",
        "print('Dataset structure= ', dir(iris))"
      ],
      "metadata": {
        "id": "TwrpSNHvTDKA",
        "colab": {
          "base_uri": "https://localhost:8080/"
        },
        "outputId": "e54aabee-ca47-4587-9a19-ea1bf5f85535"
      },
      "execution_count": 2,
      "outputs": [
        {
          "output_type": "stream",
          "name": "stdout",
          "text": [
            "Dataset structure=  ['DESCR', 'data', 'data_module', 'feature_names', 'filename', 'frame', 'target', 'target_names']\n"
          ]
        }
      ]
    },
    {
      "cell_type": "code",
      "execution_count": 9,
      "metadata": {
        "execution": {
          "iopub.execute_input": "2020-12-06T07:07:24.980629Z",
          "iopub.status.busy": "2020-12-06T07:07:24.979978Z",
          "iopub.status.idle": "2020-12-06T07:07:25.020985Z",
          "shell.execute_reply": "2020-12-06T07:07:25.021711Z"
        },
        "papermill": {
          "duration": 0.071787,
          "end_time": "2020-12-06T07:07:25.021867",
          "exception": false,
          "start_time": "2020-12-06T07:07:24.950080",
          "status": "completed"
        },
        "tags": [],
        "id": "R3Kbx99fCGt2",
        "colab": {
          "base_uri": "https://localhost:8080/",
          "height": 380
        },
        "outputId": "628d010b-66f8-4961-f9e1-27d6ba74e124"
      },
      "outputs": [
        {
          "output_type": "stream",
          "name": "stdout",
          "text": [
            "Unique target values= [0 1 2]\n"
          ]
        },
        {
          "output_type": "execute_result",
          "data": {
            "text/plain": [
              "     sepal length (cm)  sepal width (cm)  petal length (cm)  petal width (cm)  \\\n",
              "104                6.5               3.0                5.8               2.2   \n",
              "43                 5.0               3.5                1.6               0.6   \n",
              "123                6.3               2.7                4.9               1.8   \n",
              "12                 4.8               3.0                1.4               0.1   \n",
              "82                 5.8               2.7                3.9               1.2   \n",
              "0                  5.1               3.5                1.4               0.2   \n",
              "85                 6.0               3.4                4.5               1.6   \n",
              "131                7.9               3.8                6.4               2.0   \n",
              "143                6.8               3.2                5.9               2.3   \n",
              "21                 5.1               3.7                1.5               0.4   \n",
              "\n",
              "     target flower_species  \n",
              "104       2      virginica  \n",
              "43        0         setosa  \n",
              "123       2      virginica  \n",
              "12        0         setosa  \n",
              "82        1     versicolor  \n",
              "0         0         setosa  \n",
              "85        1     versicolor  \n",
              "131       2      virginica  \n",
              "143       2      virginica  \n",
              "21        0         setosa  "
            ],
            "text/html": [
              "\n",
              "  <div id=\"df-169f5aae-0bef-4b18-82e3-ab910193e969\">\n",
              "    <div class=\"colab-df-container\">\n",
              "      <div>\n",
              "<style scoped>\n",
              "    .dataframe tbody tr th:only-of-type {\n",
              "        vertical-align: middle;\n",
              "    }\n",
              "\n",
              "    .dataframe tbody tr th {\n",
              "        vertical-align: top;\n",
              "    }\n",
              "\n",
              "    .dataframe thead th {\n",
              "        text-align: right;\n",
              "    }\n",
              "</style>\n",
              "<table border=\"1\" class=\"dataframe\">\n",
              "  <thead>\n",
              "    <tr style=\"text-align: right;\">\n",
              "      <th></th>\n",
              "      <th>sepal length (cm)</th>\n",
              "      <th>sepal width (cm)</th>\n",
              "      <th>petal length (cm)</th>\n",
              "      <th>petal width (cm)</th>\n",
              "      <th>target</th>\n",
              "      <th>flower_species</th>\n",
              "    </tr>\n",
              "  </thead>\n",
              "  <tbody>\n",
              "    <tr>\n",
              "      <th>104</th>\n",
              "      <td>6.5</td>\n",
              "      <td>3.0</td>\n",
              "      <td>5.8</td>\n",
              "      <td>2.2</td>\n",
              "      <td>2</td>\n",
              "      <td>virginica</td>\n",
              "    </tr>\n",
              "    <tr>\n",
              "      <th>43</th>\n",
              "      <td>5.0</td>\n",
              "      <td>3.5</td>\n",
              "      <td>1.6</td>\n",
              "      <td>0.6</td>\n",
              "      <td>0</td>\n",
              "      <td>setosa</td>\n",
              "    </tr>\n",
              "    <tr>\n",
              "      <th>123</th>\n",
              "      <td>6.3</td>\n",
              "      <td>2.7</td>\n",
              "      <td>4.9</td>\n",
              "      <td>1.8</td>\n",
              "      <td>2</td>\n",
              "      <td>virginica</td>\n",
              "    </tr>\n",
              "    <tr>\n",
              "      <th>12</th>\n",
              "      <td>4.8</td>\n",
              "      <td>3.0</td>\n",
              "      <td>1.4</td>\n",
              "      <td>0.1</td>\n",
              "      <td>0</td>\n",
              "      <td>setosa</td>\n",
              "    </tr>\n",
              "    <tr>\n",
              "      <th>82</th>\n",
              "      <td>5.8</td>\n",
              "      <td>2.7</td>\n",
              "      <td>3.9</td>\n",
              "      <td>1.2</td>\n",
              "      <td>1</td>\n",
              "      <td>versicolor</td>\n",
              "    </tr>\n",
              "    <tr>\n",
              "      <th>0</th>\n",
              "      <td>5.1</td>\n",
              "      <td>3.5</td>\n",
              "      <td>1.4</td>\n",
              "      <td>0.2</td>\n",
              "      <td>0</td>\n",
              "      <td>setosa</td>\n",
              "    </tr>\n",
              "    <tr>\n",
              "      <th>85</th>\n",
              "      <td>6.0</td>\n",
              "      <td>3.4</td>\n",
              "      <td>4.5</td>\n",
              "      <td>1.6</td>\n",
              "      <td>1</td>\n",
              "      <td>versicolor</td>\n",
              "    </tr>\n",
              "    <tr>\n",
              "      <th>131</th>\n",
              "      <td>7.9</td>\n",
              "      <td>3.8</td>\n",
              "      <td>6.4</td>\n",
              "      <td>2.0</td>\n",
              "      <td>2</td>\n",
              "      <td>virginica</td>\n",
              "    </tr>\n",
              "    <tr>\n",
              "      <th>143</th>\n",
              "      <td>6.8</td>\n",
              "      <td>3.2</td>\n",
              "      <td>5.9</td>\n",
              "      <td>2.3</td>\n",
              "      <td>2</td>\n",
              "      <td>virginica</td>\n",
              "    </tr>\n",
              "    <tr>\n",
              "      <th>21</th>\n",
              "      <td>5.1</td>\n",
              "      <td>3.7</td>\n",
              "      <td>1.5</td>\n",
              "      <td>0.4</td>\n",
              "      <td>0</td>\n",
              "      <td>setosa</td>\n",
              "    </tr>\n",
              "  </tbody>\n",
              "</table>\n",
              "</div>\n",
              "      <button class=\"colab-df-convert\" onclick=\"convertToInteractive('df-169f5aae-0bef-4b18-82e3-ab910193e969')\"\n",
              "              title=\"Convert this dataframe to an interactive table.\"\n",
              "              style=\"display:none;\">\n",
              "        \n",
              "  <svg xmlns=\"http://www.w3.org/2000/svg\" height=\"24px\"viewBox=\"0 0 24 24\"\n",
              "       width=\"24px\">\n",
              "    <path d=\"M0 0h24v24H0V0z\" fill=\"none\"/>\n",
              "    <path d=\"M18.56 5.44l.94 2.06.94-2.06 2.06-.94-2.06-.94-.94-2.06-.94 2.06-2.06.94zm-11 1L8.5 8.5l.94-2.06 2.06-.94-2.06-.94L8.5 2.5l-.94 2.06-2.06.94zm10 10l.94 2.06.94-2.06 2.06-.94-2.06-.94-.94-2.06-.94 2.06-2.06.94z\"/><path d=\"M17.41 7.96l-1.37-1.37c-.4-.4-.92-.59-1.43-.59-.52 0-1.04.2-1.43.59L10.3 9.45l-7.72 7.72c-.78.78-.78 2.05 0 2.83L4 21.41c.39.39.9.59 1.41.59.51 0 1.02-.2 1.41-.59l7.78-7.78 2.81-2.81c.8-.78.8-2.07 0-2.86zM5.41 20L4 18.59l7.72-7.72 1.47 1.35L5.41 20z\"/>\n",
              "  </svg>\n",
              "      </button>\n",
              "      \n",
              "  <style>\n",
              "    .colab-df-container {\n",
              "      display:flex;\n",
              "      flex-wrap:wrap;\n",
              "      gap: 12px;\n",
              "    }\n",
              "\n",
              "    .colab-df-convert {\n",
              "      background-color: #E8F0FE;\n",
              "      border: none;\n",
              "      border-radius: 50%;\n",
              "      cursor: pointer;\n",
              "      display: none;\n",
              "      fill: #1967D2;\n",
              "      height: 32px;\n",
              "      padding: 0 0 0 0;\n",
              "      width: 32px;\n",
              "    }\n",
              "\n",
              "    .colab-df-convert:hover {\n",
              "      background-color: #E2EBFA;\n",
              "      box-shadow: 0px 1px 2px rgba(60, 64, 67, 0.3), 0px 1px 3px 1px rgba(60, 64, 67, 0.15);\n",
              "      fill: #174EA6;\n",
              "    }\n",
              "\n",
              "    [theme=dark] .colab-df-convert {\n",
              "      background-color: #3B4455;\n",
              "      fill: #D2E3FC;\n",
              "    }\n",
              "\n",
              "    [theme=dark] .colab-df-convert:hover {\n",
              "      background-color: #434B5C;\n",
              "      box-shadow: 0px 1px 3px 1px rgba(0, 0, 0, 0.15);\n",
              "      filter: drop-shadow(0px 1px 2px rgba(0, 0, 0, 0.3));\n",
              "      fill: #FFFFFF;\n",
              "    }\n",
              "  </style>\n",
              "\n",
              "      <script>\n",
              "        const buttonEl =\n",
              "          document.querySelector('#df-169f5aae-0bef-4b18-82e3-ab910193e969 button.colab-df-convert');\n",
              "        buttonEl.style.display =\n",
              "          google.colab.kernel.accessAllowed ? 'block' : 'none';\n",
              "\n",
              "        async function convertToInteractive(key) {\n",
              "          const element = document.querySelector('#df-169f5aae-0bef-4b18-82e3-ab910193e969');\n",
              "          const dataTable =\n",
              "            await google.colab.kernel.invokeFunction('convertToInteractive',\n",
              "                                                     [key], {});\n",
              "          if (!dataTable) return;\n",
              "\n",
              "          const docLinkHtml = 'Like what you see? Visit the ' +\n",
              "            '<a target=\"_blank\" href=https://colab.research.google.com/notebooks/data_table.ipynb>data table notebook</a>'\n",
              "            + ' to learn more about interactive tables.';\n",
              "          element.innerHTML = '';\n",
              "          dataTable['output_type'] = 'display_data';\n",
              "          await google.colab.output.renderOutput(dataTable, element);\n",
              "          const docLink = document.createElement('div');\n",
              "          docLink.innerHTML = docLinkHtml;\n",
              "          element.appendChild(docLink);\n",
              "        }\n",
              "      </script>\n",
              "    </div>\n",
              "  </div>\n",
              "  "
            ]
          },
          "metadata": {},
          "execution_count": 9
        }
      ],
      "source": [
        "df = pd.DataFrame(iris.data, columns = iris.feature_names)\n",
        "df['target'] = iris.target\n",
        "df['flower_species'] = df.target.apply(lambda x : iris.target_names[x]) # Each value from 'target' is used as index to get corresponding value from 'target_names' \n",
        "\n",
        "print('Unique target values=',df['target'].unique())\n",
        "\n",
        "df.sample(10)\n"
      ]
    },
    {
      "cell_type": "markdown",
      "source": [
        "## **Question: What is target column and why it is created?**\n",
        "So we can give data in form of target sets. To see which label belongs to which dataset.\n"
      ],
      "metadata": {
        "id": "ANkYI94niR55"
      }
    },
    {
      "cell_type": "markdown",
      "source": [
        "## **Question: List the mapping of different target labels w.r.t. the flower specie.** \n",
        "0 represents setosa,\n",
        "1 represents versicolor,\n",
        "2 represents virginica\n"
      ],
      "metadata": {
        "id": "-3x7ckHjWBEZ"
      }
    },
    {
      "cell_type": "code",
      "source": [
        "#Print the shape of the data using the shape attribute\n",
        "print(df.shape)"
      ],
      "metadata": {
        "id": "qJ7MnBA9VRPY",
        "colab": {
          "base_uri": "https://localhost:8080/"
        },
        "outputId": "cec4d568-b9d5-4317-b924-ee4d1060b352"
      },
      "execution_count": 8,
      "outputs": [
        {
          "output_type": "stream",
          "name": "stdout",
          "text": [
            "(150, 6)\n"
          ]
        }
      ]
    },
    {
      "cell_type": "markdown",
      "source": [
        "## **Question: From the above result, write the number of instances in the dataset**\n",
        "Ans: Number of instances are 150."
      ],
      "metadata": {
        "id": "170BX1JUVfKJ"
      }
    },
    {
      "cell_type": "code",
      "execution_count": 16,
      "metadata": {
        "execution": {
          "iopub.execute_input": "2020-12-06T07:07:25.189798Z",
          "iopub.status.busy": "2020-12-06T07:07:25.188798Z",
          "iopub.status.idle": "2020-12-06T07:07:25.193983Z",
          "shell.execute_reply": "2020-12-06T07:07:25.193291Z"
        },
        "papermill": {
          "duration": 0.05694,
          "end_time": "2020-12-06T07:07:25.194097",
          "exception": false,
          "start_time": "2020-12-06T07:07:25.137157",
          "status": "completed"
        },
        "tags": [],
        "id": "YpTOMb8gCGt4",
        "colab": {
          "base_uri": "https://localhost:8080/"
        },
        "outputId": "77f85f2d-1fc3-412a-c616-cbcbc51adbde"
      },
      "outputs": [
        {
          "output_type": "stream",
          "name": "stdout",
          "text": [
            "   sepal length (cm)  sepal width (cm)  petal length (cm)  petal width (cm)  \\\n",
            "0                5.1               3.5                1.4               0.2   \n",
            "1                4.9               3.0                1.4               0.2   \n",
            "2                4.7               3.2                1.3               0.2   \n",
            "3                4.6               3.1                1.5               0.2   \n",
            "4                5.0               3.6                1.4               0.2   \n",
            "\n",
            "   target flower_species  \n",
            "0       0         setosa  \n",
            "1       0         setosa  \n",
            "2       0         setosa  \n",
            "3       0         setosa  \n",
            "4       0         setosa  \n"
          ]
        }
      ],
      "source": [
        "#Print the top five samples of specie 1\n",
        "cond = df['target']==0\n",
        "df1 = df[cond]\n",
        "print(df1.head())"
      ]
    },
    {
      "cell_type": "code",
      "execution_count": 17,
      "metadata": {
        "execution": {
          "iopub.execute_input": "2020-12-06T07:07:25.258895Z",
          "iopub.status.busy": "2020-12-06T07:07:25.254844Z",
          "iopub.status.idle": "2020-12-06T07:07:25.264314Z",
          "shell.execute_reply": "2020-12-06T07:07:25.264792Z"
        },
        "papermill": {
          "duration": 0.04477,
          "end_time": "2020-12-06T07:07:25.264951",
          "exception": false,
          "start_time": "2020-12-06T07:07:25.220181",
          "status": "completed"
        },
        "tags": [],
        "id": "ivC2O5hcCGt4",
        "colab": {
          "base_uri": "https://localhost:8080/"
        },
        "outputId": "2bd8e4b7-9bd4-4da1-ad02-bb8eea2e80b6"
      },
      "outputs": [
        {
          "output_type": "stream",
          "name": "stdout",
          "text": [
            "    sepal length (cm)  sepal width (cm)  petal length (cm)  petal width (cm)  \\\n",
            "50                7.0               3.2                4.7               1.4   \n",
            "51                6.4               3.2                4.5               1.5   \n",
            "52                6.9               3.1                4.9               1.5   \n",
            "53                5.5               2.3                4.0               1.3   \n",
            "54                6.5               2.8                4.6               1.5   \n",
            "\n",
            "    target flower_species  \n",
            "50       1     versicolor  \n",
            "51       1     versicolor  \n",
            "52       1     versicolor  \n",
            "53       1     versicolor  \n",
            "54       1     versicolor  \n"
          ]
        }
      ],
      "source": [
        "#Print the top five samples of specie 2\n",
        "cond = df['target']==1\n",
        "df2 = df[cond]\n",
        "print(df2.head())"
      ]
    },
    {
      "cell_type": "code",
      "execution_count": 18,
      "metadata": {
        "execution": {
          "iopub.execute_input": "2020-12-06T07:07:25.329707Z",
          "iopub.status.busy": "2020-12-06T07:07:25.329113Z",
          "iopub.status.idle": "2020-12-06T07:07:25.334743Z",
          "shell.execute_reply": "2020-12-06T07:07:25.334154Z"
        },
        "papermill": {
          "duration": 0.043533,
          "end_time": "2020-12-06T07:07:25.334837",
          "exception": false,
          "start_time": "2020-12-06T07:07:25.291304",
          "status": "completed"
        },
        "tags": [],
        "id": "WzceXbKGCGt5",
        "colab": {
          "base_uri": "https://localhost:8080/"
        },
        "outputId": "485e1501-ebe6-49e8-f05e-2a7ba1958638"
      },
      "outputs": [
        {
          "output_type": "stream",
          "name": "stdout",
          "text": [
            "     sepal length (cm)  sepal width (cm)  petal length (cm)  petal width (cm)  \\\n",
            "100                6.3               3.3                6.0               2.5   \n",
            "101                5.8               2.7                5.1               1.9   \n",
            "102                7.1               3.0                5.9               2.1   \n",
            "103                6.3               2.9                5.6               1.8   \n",
            "104                6.5               3.0                5.8               2.2   \n",
            "\n",
            "     target flower_species  \n",
            "100       2      virginica  \n",
            "101       2      virginica  \n",
            "102       2      virginica  \n",
            "103       2      virginica  \n",
            "104       2      virginica  \n"
          ]
        }
      ],
      "source": [
        "#Print the top five samples of specie 3\n",
        "cond = df['target']==2\n",
        "df3 = df[cond]\n",
        "print(df3.head())"
      ]
    },
    {
      "cell_type": "markdown",
      "source": [
        "### View summary of dataset"
      ],
      "metadata": {
        "id": "5TUaScw6SFPn"
      }
    },
    {
      "cell_type": "code",
      "source": [
        "#Print the overall summary of the dataset using pandas info method\n",
        "df.info()"
      ],
      "metadata": {
        "id": "cN4fZqSULom3",
        "colab": {
          "base_uri": "https://localhost:8080/"
        },
        "outputId": "895328e8-8098-4cbd-b4a5-c7183060b936"
      },
      "execution_count": 19,
      "outputs": [
        {
          "output_type": "stream",
          "name": "stdout",
          "text": [
            "<class 'pandas.core.frame.DataFrame'>\n",
            "RangeIndex: 150 entries, 0 to 149\n",
            "Data columns (total 6 columns):\n",
            " #   Column             Non-Null Count  Dtype  \n",
            "---  ------             --------------  -----  \n",
            " 0   sepal length (cm)  150 non-null    float64\n",
            " 1   sepal width (cm)   150 non-null    float64\n",
            " 2   petal length (cm)  150 non-null    float64\n",
            " 3   petal width (cm)   150 non-null    float64\n",
            " 4   target             150 non-null    int64  \n",
            " 5   flower_species     150 non-null    object \n",
            "dtypes: float64(4), int64(1), object(1)\n",
            "memory usage: 7.2+ KB\n"
          ]
        }
      ]
    },
    {
      "cell_type": "code",
      "source": [
        "##check the distribution of species in the data using panadas value_count method. \n",
        "index = df['target']\n",
        "index.value_counts()"
      ],
      "metadata": {
        "id": "WKTQXmRNR50w",
        "colab": {
          "base_uri": "https://localhost:8080/"
        },
        "outputId": "2d946884-568a-4cbd-806e-4ef462911f2f"
      },
      "execution_count": 21,
      "outputs": [
        {
          "output_type": "execute_result",
          "data": {
            "text/plain": [
              "0    50\n",
              "1    50\n",
              "2    50\n",
              "Name: target, dtype: int64"
            ]
          },
          "metadata": {},
          "execution_count": 21
        }
      ]
    },
    {
      "cell_type": "markdown",
      "source": [
        "## **Question: Whats is the class distribution of each specie of flower in the dataset. Is the data evenly distributed or not?**\n",
        "Ans: Class distribution is even. All three species have 50 values in data set."
      ],
      "metadata": {
        "id": "pOpgUZPVSctJ"
      }
    },
    {
      "cell_type": "code",
      "source": [
        "#Check whether the data contains any missing vakues or not, by using the panadas dataframe isnull method. \n",
        "pd.isna(df)"
      ],
      "metadata": {
        "id": "Fb-vb8sRXCdA",
        "colab": {
          "base_uri": "https://localhost:8080/",
          "height": 424
        },
        "outputId": "2e534798-c94f-4444-e905-56a21dd5cf37"
      },
      "execution_count": 22,
      "outputs": [
        {
          "output_type": "execute_result",
          "data": {
            "text/plain": [
              "     sepal length (cm)  sepal width (cm)  petal length (cm)  petal width (cm)  \\\n",
              "0                False             False              False             False   \n",
              "1                False             False              False             False   \n",
              "2                False             False              False             False   \n",
              "3                False             False              False             False   \n",
              "4                False             False              False             False   \n",
              "..                 ...               ...                ...               ...   \n",
              "145              False             False              False             False   \n",
              "146              False             False              False             False   \n",
              "147              False             False              False             False   \n",
              "148              False             False              False             False   \n",
              "149              False             False              False             False   \n",
              "\n",
              "     target  flower_species  \n",
              "0     False           False  \n",
              "1     False           False  \n",
              "2     False           False  \n",
              "3     False           False  \n",
              "4     False           False  \n",
              "..      ...             ...  \n",
              "145   False           False  \n",
              "146   False           False  \n",
              "147   False           False  \n",
              "148   False           False  \n",
              "149   False           False  \n",
              "\n",
              "[150 rows x 6 columns]"
            ],
            "text/html": [
              "\n",
              "  <div id=\"df-c0f1238e-7c89-41af-bc06-692cd3228efc\">\n",
              "    <div class=\"colab-df-container\">\n",
              "      <div>\n",
              "<style scoped>\n",
              "    .dataframe tbody tr th:only-of-type {\n",
              "        vertical-align: middle;\n",
              "    }\n",
              "\n",
              "    .dataframe tbody tr th {\n",
              "        vertical-align: top;\n",
              "    }\n",
              "\n",
              "    .dataframe thead th {\n",
              "        text-align: right;\n",
              "    }\n",
              "</style>\n",
              "<table border=\"1\" class=\"dataframe\">\n",
              "  <thead>\n",
              "    <tr style=\"text-align: right;\">\n",
              "      <th></th>\n",
              "      <th>sepal length (cm)</th>\n",
              "      <th>sepal width (cm)</th>\n",
              "      <th>petal length (cm)</th>\n",
              "      <th>petal width (cm)</th>\n",
              "      <th>target</th>\n",
              "      <th>flower_species</th>\n",
              "    </tr>\n",
              "  </thead>\n",
              "  <tbody>\n",
              "    <tr>\n",
              "      <th>0</th>\n",
              "      <td>False</td>\n",
              "      <td>False</td>\n",
              "      <td>False</td>\n",
              "      <td>False</td>\n",
              "      <td>False</td>\n",
              "      <td>False</td>\n",
              "    </tr>\n",
              "    <tr>\n",
              "      <th>1</th>\n",
              "      <td>False</td>\n",
              "      <td>False</td>\n",
              "      <td>False</td>\n",
              "      <td>False</td>\n",
              "      <td>False</td>\n",
              "      <td>False</td>\n",
              "    </tr>\n",
              "    <tr>\n",
              "      <th>2</th>\n",
              "      <td>False</td>\n",
              "      <td>False</td>\n",
              "      <td>False</td>\n",
              "      <td>False</td>\n",
              "      <td>False</td>\n",
              "      <td>False</td>\n",
              "    </tr>\n",
              "    <tr>\n",
              "      <th>3</th>\n",
              "      <td>False</td>\n",
              "      <td>False</td>\n",
              "      <td>False</td>\n",
              "      <td>False</td>\n",
              "      <td>False</td>\n",
              "      <td>False</td>\n",
              "    </tr>\n",
              "    <tr>\n",
              "      <th>4</th>\n",
              "      <td>False</td>\n",
              "      <td>False</td>\n",
              "      <td>False</td>\n",
              "      <td>False</td>\n",
              "      <td>False</td>\n",
              "      <td>False</td>\n",
              "    </tr>\n",
              "    <tr>\n",
              "      <th>...</th>\n",
              "      <td>...</td>\n",
              "      <td>...</td>\n",
              "      <td>...</td>\n",
              "      <td>...</td>\n",
              "      <td>...</td>\n",
              "      <td>...</td>\n",
              "    </tr>\n",
              "    <tr>\n",
              "      <th>145</th>\n",
              "      <td>False</td>\n",
              "      <td>False</td>\n",
              "      <td>False</td>\n",
              "      <td>False</td>\n",
              "      <td>False</td>\n",
              "      <td>False</td>\n",
              "    </tr>\n",
              "    <tr>\n",
              "      <th>146</th>\n",
              "      <td>False</td>\n",
              "      <td>False</td>\n",
              "      <td>False</td>\n",
              "      <td>False</td>\n",
              "      <td>False</td>\n",
              "      <td>False</td>\n",
              "    </tr>\n",
              "    <tr>\n",
              "      <th>147</th>\n",
              "      <td>False</td>\n",
              "      <td>False</td>\n",
              "      <td>False</td>\n",
              "      <td>False</td>\n",
              "      <td>False</td>\n",
              "      <td>False</td>\n",
              "    </tr>\n",
              "    <tr>\n",
              "      <th>148</th>\n",
              "      <td>False</td>\n",
              "      <td>False</td>\n",
              "      <td>False</td>\n",
              "      <td>False</td>\n",
              "      <td>False</td>\n",
              "      <td>False</td>\n",
              "    </tr>\n",
              "    <tr>\n",
              "      <th>149</th>\n",
              "      <td>False</td>\n",
              "      <td>False</td>\n",
              "      <td>False</td>\n",
              "      <td>False</td>\n",
              "      <td>False</td>\n",
              "      <td>False</td>\n",
              "    </tr>\n",
              "  </tbody>\n",
              "</table>\n",
              "<p>150 rows × 6 columns</p>\n",
              "</div>\n",
              "      <button class=\"colab-df-convert\" onclick=\"convertToInteractive('df-c0f1238e-7c89-41af-bc06-692cd3228efc')\"\n",
              "              title=\"Convert this dataframe to an interactive table.\"\n",
              "              style=\"display:none;\">\n",
              "        \n",
              "  <svg xmlns=\"http://www.w3.org/2000/svg\" height=\"24px\"viewBox=\"0 0 24 24\"\n",
              "       width=\"24px\">\n",
              "    <path d=\"M0 0h24v24H0V0z\" fill=\"none\"/>\n",
              "    <path d=\"M18.56 5.44l.94 2.06.94-2.06 2.06-.94-2.06-.94-.94-2.06-.94 2.06-2.06.94zm-11 1L8.5 8.5l.94-2.06 2.06-.94-2.06-.94L8.5 2.5l-.94 2.06-2.06.94zm10 10l.94 2.06.94-2.06 2.06-.94-2.06-.94-.94-2.06-.94 2.06-2.06.94z\"/><path d=\"M17.41 7.96l-1.37-1.37c-.4-.4-.92-.59-1.43-.59-.52 0-1.04.2-1.43.59L10.3 9.45l-7.72 7.72c-.78.78-.78 2.05 0 2.83L4 21.41c.39.39.9.59 1.41.59.51 0 1.02-.2 1.41-.59l7.78-7.78 2.81-2.81c.8-.78.8-2.07 0-2.86zM5.41 20L4 18.59l7.72-7.72 1.47 1.35L5.41 20z\"/>\n",
              "  </svg>\n",
              "      </button>\n",
              "      \n",
              "  <style>\n",
              "    .colab-df-container {\n",
              "      display:flex;\n",
              "      flex-wrap:wrap;\n",
              "      gap: 12px;\n",
              "    }\n",
              "\n",
              "    .colab-df-convert {\n",
              "      background-color: #E8F0FE;\n",
              "      border: none;\n",
              "      border-radius: 50%;\n",
              "      cursor: pointer;\n",
              "      display: none;\n",
              "      fill: #1967D2;\n",
              "      height: 32px;\n",
              "      padding: 0 0 0 0;\n",
              "      width: 32px;\n",
              "    }\n",
              "\n",
              "    .colab-df-convert:hover {\n",
              "      background-color: #E2EBFA;\n",
              "      box-shadow: 0px 1px 2px rgba(60, 64, 67, 0.3), 0px 1px 3px 1px rgba(60, 64, 67, 0.15);\n",
              "      fill: #174EA6;\n",
              "    }\n",
              "\n",
              "    [theme=dark] .colab-df-convert {\n",
              "      background-color: #3B4455;\n",
              "      fill: #D2E3FC;\n",
              "    }\n",
              "\n",
              "    [theme=dark] .colab-df-convert:hover {\n",
              "      background-color: #434B5C;\n",
              "      box-shadow: 0px 1px 3px 1px rgba(0, 0, 0, 0.15);\n",
              "      filter: drop-shadow(0px 1px 2px rgba(0, 0, 0, 0.3));\n",
              "      fill: #FFFFFF;\n",
              "    }\n",
              "  </style>\n",
              "\n",
              "      <script>\n",
              "        const buttonEl =\n",
              "          document.querySelector('#df-c0f1238e-7c89-41af-bc06-692cd3228efc button.colab-df-convert');\n",
              "        buttonEl.style.display =\n",
              "          google.colab.kernel.accessAllowed ? 'block' : 'none';\n",
              "\n",
              "        async function convertToInteractive(key) {\n",
              "          const element = document.querySelector('#df-c0f1238e-7c89-41af-bc06-692cd3228efc');\n",
              "          const dataTable =\n",
              "            await google.colab.kernel.invokeFunction('convertToInteractive',\n",
              "                                                     [key], {});\n",
              "          if (!dataTable) return;\n",
              "\n",
              "          const docLinkHtml = 'Like what you see? Visit the ' +\n",
              "            '<a target=\"_blank\" href=https://colab.research.google.com/notebooks/data_table.ipynb>data table notebook</a>'\n",
              "            + ' to learn more about interactive tables.';\n",
              "          element.innerHTML = '';\n",
              "          dataTable['output_type'] = 'display_data';\n",
              "          await google.colab.output.renderOutput(dataTable, element);\n",
              "          const docLink = document.createElement('div');\n",
              "          docLink.innerHTML = docLinkHtml;\n",
              "          element.appendChild(docLink);\n",
              "        }\n",
              "      </script>\n",
              "    </div>\n",
              "  </div>\n",
              "  "
            ]
          },
          "metadata": {},
          "execution_count": 22
        }
      ]
    },
    {
      "cell_type": "markdown",
      "source": [
        "##**Question: Do you find any misssing values in the data?** \n",
        "Ans: No missing values in data."
      ],
      "metadata": {
        "id": "rWYQo0lDXFWG"
      }
    },
    {
      "cell_type": "markdown",
      "metadata": {
        "papermill": {
          "duration": 0.026473,
          "end_time": "2020-12-06T07:07:25.387584",
          "exception": false,
          "start_time": "2020-12-06T07:07:25.361111",
          "status": "completed"
        },
        "tags": [],
        "id": "cW3JpuOSCGt5"
      },
      "source": [
        "## Build Machine Learning Model"
      ]
    },
    {
      "cell_type": "code",
      "execution_count": 23,
      "metadata": {
        "execution": {
          "iopub.execute_input": "2020-12-06T07:07:25.453708Z",
          "iopub.status.busy": "2020-12-06T07:07:25.452797Z",
          "iopub.status.idle": "2020-12-06T07:07:25.458830Z",
          "shell.execute_reply": "2020-12-06T07:07:25.458183Z"
        },
        "papermill": {
          "duration": 0.044347,
          "end_time": "2020-12-06T07:07:25.458964",
          "exception": false,
          "start_time": "2020-12-06T07:07:25.414617",
          "status": "completed"
        },
        "tags": [],
        "id": "ApXqO9hxCGt6",
        "colab": {
          "base_uri": "https://localhost:8080/"
        },
        "outputId": "e7a94877-438f-4227-8395-dfa908febf92"
      },
      "outputs": [
        {
          "output_type": "stream",
          "name": "stdout",
          "text": [
            "X shape= (150, 4)\n",
            "y shape= (150, 1)\n"
          ]
        }
      ],
      "source": [
        "#Lets create feature matrix X  and y labels\n",
        "X = df[['sepal length (cm)', 'sepal width (cm)', 'petal length (cm)', 'petal width (cm)']]\n",
        "y = df[['target']]\n",
        "\n",
        "print('X shape=', X.shape)\n",
        "print('y shape=', y.shape)"
      ]
    },
    {
      "cell_type": "markdown",
      "metadata": {
        "papermill": {
          "duration": 0.027516,
          "end_time": "2020-12-06T07:07:25.514026",
          "exception": false,
          "start_time": "2020-12-06T07:07:25.486510",
          "status": "completed"
        },
        "tags": [],
        "id": "7dZ5uLRuCGt6"
      },
      "source": [
        "### Create Test And Train Dataset\n",
        "* We will split the dataset, so that we can use one set of data for training the model and one set of data for testing the model\n",
        "* We will keep 20% of data for testing and 80% of data for training the model"
      ]
    },
    {
      "cell_type": "code",
      "execution_count": 24,
      "metadata": {
        "execution": {
          "iopub.execute_input": "2020-12-06T07:07:25.582138Z",
          "iopub.status.busy": "2020-12-06T07:07:25.581372Z",
          "iopub.status.idle": "2020-12-06T07:07:25.585476Z",
          "shell.execute_reply": "2020-12-06T07:07:25.584514Z"
        },
        "papermill": {
          "duration": 0.043366,
          "end_time": "2020-12-06T07:07:25.585626",
          "exception": false,
          "start_time": "2020-12-06T07:07:25.542260",
          "status": "completed"
        },
        "tags": [],
        "colab": {
          "base_uri": "https://localhost:8080/"
        },
        "id": "VSUHqi-vCGt6",
        "outputId": "45c1e27a-2b51-40b7-fd42-96bbc34ae979"
      },
      "outputs": [
        {
          "output_type": "stream",
          "name": "stdout",
          "text": [
            "X_train dimension=  (120, 4)\n",
            "X_test dimension=  (30, 4)\n",
            "y_train dimension=  (120, 1)\n",
            "y_train dimension=  (30, 1)\n"
          ]
        }
      ],
      "source": [
        "X_train,X_test, y_train, y_test = model_selection.train_test_split(X,y ,test_size=0.2 )\n",
        "print('X_train dimension= ', X_train.shape)\n",
        "print('X_test dimension= ', X_test.shape)\n",
        "print('y_train dimension= ', y_train.shape)\n",
        "print('y_train dimension= ', y_test.shape)"
      ]
    },
    {
      "cell_type": "markdown",
      "metadata": {
        "papermill": {
          "duration": 0.027447,
          "end_time": "2020-12-06T07:07:25.642203",
          "exception": false,
          "start_time": "2020-12-06T07:07:25.614756",
          "status": "completed"
        },
        "tags": [],
        "id": "p7WsQJZ_CGt7"
      },
      "source": [
        "Now lets train the model using Decision Tree"
      ]
    },
    {
      "cell_type": "code",
      "execution_count": 25,
      "metadata": {
        "execution": {
          "iopub.execute_input": "2020-12-06T07:07:25.707784Z",
          "iopub.status.busy": "2020-12-06T07:07:25.705139Z",
          "iopub.status.idle": "2020-12-06T07:07:25.716581Z",
          "shell.execute_reply": "2020-12-06T07:07:25.715730Z"
        },
        "papermill": {
          "duration": 0.046985,
          "end_time": "2020-12-06T07:07:25.716712",
          "exception": false,
          "start_time": "2020-12-06T07:07:25.669727",
          "status": "completed"
        },
        "tags": [],
        "id": "EnTnQ5IOCGt7"
      },
      "outputs": [],
      "source": [
        "\"\"\"\n",
        "To obtain a deterministic behaviour during fitting always set value for 'random_state' attribute\n",
        "Also note that default value of criteria to split the data is 'gini'\n",
        "You are reuesyed to use 'entropy' criteria in the lab\n",
        "\"\"\"\n",
        "cls = tree.DecisionTreeClassifier(criterion='entropy',random_state=0)\n",
        "#Fit the model using the fit method. \n",
        "estimator = cls.fit(X_train,y_train)"
      ]
    },
    {
      "cell_type": "markdown",
      "metadata": {
        "papermill": {
          "duration": 0.044318,
          "end_time": "2020-12-06T07:07:25.804417",
          "exception": false,
          "start_time": "2020-12-06T07:07:25.760099",
          "status": "completed"
        },
        "tags": [],
        "id": "2cIHfHXKCGt7"
      },
      "source": [
        "### Testing The Model\n",
        "* For testing we are going to use the test data only\n",
        "* Question: Predict the species of 20th, 10th and 29th test example from test data"
      ]
    },
    {
      "cell_type": "code",
      "execution_count": 30,
      "metadata": {
        "execution": {
          "iopub.execute_input": "2020-12-06T07:07:25.902327Z",
          "iopub.status.busy": "2020-12-06T07:07:25.897386Z",
          "iopub.status.idle": "2020-12-06T07:07:25.906980Z",
          "shell.execute_reply": "2020-12-06T07:07:25.907644Z"
        },
        "papermill": {
          "duration": 0.061191,
          "end_time": "2020-12-06T07:07:25.907837",
          "exception": false,
          "start_time": "2020-12-06T07:07:25.846646",
          "status": "completed"
        },
        "tags": [],
        "id": "zkUSoE_gCGt7",
        "colab": {
          "base_uri": "https://localhost:8080/"
        },
        "outputId": "58c5d4ea-4243-45ac-d56e-6e8f43ce8163"
      },
      "outputs": [
        {
          "output_type": "stream",
          "name": "stdout",
          "text": [
            "0\n",
            "1\n",
            "2\n"
          ]
        }
      ],
      "source": [
        "prediction = cls.predict(X_test)\n",
        "print(prediction[10])\n",
        "print(prediction[20])\n",
        "print(prediction[29])"
      ]
    },
    {
      "cell_type": "markdown",
      "metadata": {
        "papermill": {
          "duration": 0.028262,
          "end_time": "2020-12-06T07:07:25.965011",
          "exception": false,
          "start_time": "2020-12-06T07:07:25.936749",
          "status": "completed"
        },
        "tags": [],
        "id": "C07pWO6wCGt8"
      },
      "source": [
        "### Model Score\n",
        "Check the model score using test data"
      ]
    },
    {
      "cell_type": "code",
      "execution_count": 32,
      "metadata": {
        "execution": {
          "iopub.execute_input": "2020-12-06T07:07:26.031655Z",
          "iopub.status.busy": "2020-12-06T07:07:26.030884Z",
          "iopub.status.idle": "2020-12-06T07:07:26.035722Z",
          "shell.execute_reply": "2020-12-06T07:07:26.035089Z"
        },
        "papermill": {
          "duration": 0.041647,
          "end_time": "2020-12-06T07:07:26.035829",
          "exception": false,
          "start_time": "2020-12-06T07:07:25.994182",
          "status": "completed"
        },
        "tags": [],
        "id": "TSU5ICAXCGt8",
        "colab": {
          "base_uri": "https://localhost:8080/"
        },
        "outputId": "3a950c11-d4d6-4604-bb6e-fda9a411ad6e"
      },
      "outputs": [
        {
          "output_type": "stream",
          "name": "stdout",
          "text": [
            "0.9666666666666667\n"
          ]
        }
      ],
      "source": [
        "#Check model accuracy using the score method.\n",
        "score = cls.score(X_test,y_test)\n",
        "print(score)"
      ]
    },
    {
      "cell_type": "markdown",
      "metadata": {
        "papermill": {
          "duration": 0.029756,
          "end_time": "2020-12-06T07:07:26.095659",
          "exception": false,
          "start_time": "2020-12-06T07:07:26.065903",
          "status": "completed"
        },
        "tags": [],
        "id": "GWBG2vsSCGt8"
      },
      "source": [
        "## Visualize The Decision Tree\n",
        "We will use plot_tree() function from sklearn to plot the tree and then export the tree in Graphviz format using the export_graphviz exporter. Results will be saved in iris_decision_tree.pdf file"
      ]
    },
    {
      "cell_type": "code",
      "execution_count": 33,
      "metadata": {
        "execution": {
          "iopub.execute_input": "2020-12-06T07:07:26.160442Z",
          "iopub.status.busy": "2020-12-06T07:07:26.159819Z",
          "iopub.status.idle": "2020-12-06T07:07:26.639819Z",
          "shell.execute_reply": "2020-12-06T07:07:26.640399Z"
        },
        "papermill": {
          "duration": 0.515066,
          "end_time": "2020-12-06T07:07:26.640545",
          "exception": false,
          "start_time": "2020-12-06T07:07:26.125479",
          "status": "completed"
        },
        "tags": [],
        "id": "m0_nLaYoCGt9",
        "colab": {
          "base_uri": "https://localhost:8080/",
          "height": 726
        },
        "outputId": "ad420f06-a95d-4626-fc7b-22fa064d220a"
      },
      "outputs": [
        {
          "output_type": "execute_result",
          "data": {
            "text/plain": [
              "[Text(0.4, 0.9166666666666666, 'X[3] <= 0.8\\nentropy = 1.584\\nsamples = 120\\nvalue = [39, 39, 42]'),\n",
              " Text(0.3, 0.75, 'entropy = 0.0\\nsamples = 39\\nvalue = [39, 0, 0]'),\n",
              " Text(0.5, 0.75, 'X[3] <= 1.75\\nentropy = 0.999\\nsamples = 81\\nvalue = [0, 39, 42]'),\n",
              " Text(0.2, 0.5833333333333334, 'X[2] <= 4.95\\nentropy = 0.454\\nsamples = 42\\nvalue = [0, 38, 4]'),\n",
              " Text(0.1, 0.4166666666666667, 'entropy = 0.0\\nsamples = 36\\nvalue = [0, 36, 0]'),\n",
              " Text(0.3, 0.4166666666666667, 'X[3] <= 1.55\\nentropy = 0.918\\nsamples = 6\\nvalue = [0, 2, 4]'),\n",
              " Text(0.2, 0.25, 'entropy = 0.0\\nsamples = 3\\nvalue = [0, 0, 3]'),\n",
              " Text(0.4, 0.25, 'X[0] <= 6.95\\nentropy = 0.918\\nsamples = 3\\nvalue = [0, 2, 1]'),\n",
              " Text(0.3, 0.08333333333333333, 'entropy = 0.0\\nsamples = 2\\nvalue = [0, 2, 0]'),\n",
              " Text(0.5, 0.08333333333333333, 'entropy = 0.0\\nsamples = 1\\nvalue = [0, 0, 1]'),\n",
              " Text(0.8, 0.5833333333333334, 'X[2] <= 4.85\\nentropy = 0.172\\nsamples = 39\\nvalue = [0, 1, 38]'),\n",
              " Text(0.7, 0.4166666666666667, 'X[0] <= 5.95\\nentropy = 1.0\\nsamples = 2\\nvalue = [0, 1, 1]'),\n",
              " Text(0.6, 0.25, 'entropy = 0.0\\nsamples = 1\\nvalue = [0, 1, 0]'),\n",
              " Text(0.8, 0.25, 'entropy = 0.0\\nsamples = 1\\nvalue = [0, 0, 1]'),\n",
              " Text(0.9, 0.4166666666666667, 'entropy = 0.0\\nsamples = 37\\nvalue = [0, 0, 37]')]"
            ]
          },
          "metadata": {},
          "execution_count": 33
        },
        {
          "output_type": "display_data",
          "data": {
            "text/plain": [
              "<Figure size 864x576 with 1 Axes>"
            ],
            "image/png": "[encoded data removed]"
          },
          "metadata": {
            "needs_background": "light"
          }
        }
      ],
      "source": [
        "plt.figure(figsize=(12,8))\n",
        "tree.plot_tree(cls) "
      ]
    },
    {
      "cell_type": "code",
      "execution_count": 34,
      "metadata": {
        "execution": {
          "iopub.execute_input": "2020-12-06T07:07:26.715076Z",
          "iopub.status.busy": "2020-12-06T07:07:26.714208Z",
          "iopub.status.idle": "2020-12-06T07:07:27.307473Z",
          "shell.execute_reply": "2020-12-06T07:07:27.306901Z"
        },
        "papermill": {
          "duration": 0.634484,
          "end_time": "2020-12-06T07:07:27.307594",
          "exception": false,
          "start_time": "2020-12-06T07:07:26.673110",
          "status": "completed"
        },
        "tags": [],
        "id": "_b0YUaI7CGt9",
        "colab": {
          "base_uri": "https://localhost:8080/",
          "height": 36
        },
        "outputId": "129311df-930b-4f04-9b80-bd015ae2906f"
      },
      "outputs": [
        {
          "output_type": "execute_result",
          "data": {
            "text/plain": [
              "'iris_decision_tree.pdf'"
            ],
            "application/vnd.google.colaboratory.intrinsic+json": {
              "type": "string"
            }
          },
          "metadata": {},
          "execution_count": 34
        }
      ],
      "source": [
        "dot_data = tree.export_graphviz(cls, out_file=None) \n",
        "graph = graphviz.Source(dot_data) \n",
        "graph.render(\"iris_decision_tree\") "
      ]
    },
    {
      "cell_type": "code",
      "execution_count": 35,
      "metadata": {
        "execution": {
          "iopub.execute_input": "2020-12-06T07:07:27.384112Z",
          "iopub.status.busy": "2020-12-06T07:07:27.381858Z",
          "iopub.status.idle": "2020-12-06T07:07:27.444898Z",
          "shell.execute_reply": "2020-12-06T07:07:27.444086Z"
        },
        "papermill": {
          "duration": 0.104974,
          "end_time": "2020-12-06T07:07:27.445076",
          "exception": false,
          "start_time": "2020-12-06T07:07:27.340102",
          "status": "completed"
        },
        "tags": [],
        "id": "PROvgLiUCGt9",
        "colab": {
          "base_uri": "https://localhost:8080/",
          "height": 916
        },
        "outputId": "6cab26d3-2923-463e-edf8-651f0703e816"
      },
      "outputs": [
        {
          "output_type": "execute_result",
          "data": {
            "text/plain": [
              "<graphviz.files.Source at 0x7f5b1692e2b0>"
            ],
            "image/svg+xml": "<?xml version=\"1.0\" encoding=\"UTF-8\" standalone=\"no\"?>\n<!DOCTYPE svg PUBLIC \"-//W3C//DTD SVG 1.1//EN\"\n \"http://www.w3.org/Graphics/SVG/1.1/DTD/svg11.dtd\">\n<!-- Generated by graphviz version 2.43.0 (0)\n -->\n<!-- Title: Tree Pages: 1 -->\n<svg width=\"618pt\" height=\"671pt\"\n viewBox=\"0.00 0.00 618.00 671.00\" xmlns=\"http://www.w3.org/2000/svg\" xmlns:xlink=\"http://www.w3.org/1999/xlink\">\n<g id=\"graph0\" class=\"graph\" transform=\"scale(1 1) rotate(0) translate(4 667)\">\n<title>Tree</title>\n<polygon fill=\"white\" stroke=\"transparent\" points=\"-4,4 -4,-667 614,-667 614,4 -4,4\"/>\n<!-- 0 -->\n<g id=\"node1\" class=\"node\">\n<title>0</title>\n<path fill=\"#faf8fe\" stroke=\"black\" d=\"M288.5,-663C288.5,-663 166.5,-663 166.5,-663 160.5,-663 154.5,-657 154.5,-651 154.5,-651 154.5,-592 154.5,-592 154.5,-586 160.5,-580 166.5,-580 166.5,-580 288.5,-580 288.5,-580 294.5,-580 300.5,-586 300.5,-592 300.5,-592 300.5,-651 300.5,-651 300.5,-657 294.5,-663 288.5,-663\"/>\n<text text-anchor=\"start\" x=\"162.5\" y=\"-647.8\" font-family=\"Helvetica,sans-Serif\" font-size=\"14.00\">petal width (cm) ≤ 0.8</text>\n<text text-anchor=\"start\" x=\"180\" y=\"-632.8\" font-family=\"Helvetica,sans-Serif\" font-size=\"14.00\">entropy = 1.584</text>\n<text text-anchor=\"start\" x=\"182.5\" y=\"-617.8\" font-family=\"Helvetica,sans-Serif\" font-size=\"14.00\">samples = 120</text>\n<text text-anchor=\"start\" x=\"169.5\" y=\"-602.8\" font-family=\"Helvetica,sans-Serif\" font-size=\"14.00\">value = [39, 39, 42]</text>\n<text text-anchor=\"start\" x=\"179\" y=\"-587.8\" font-family=\"Helvetica,sans-Serif\" font-size=\"14.00\">class = virginica</text>\n</g>\n<!-- 1 -->\n<g id=\"node2\" class=\"node\">\n<title>1</title>\n<path fill=\"#e58139\" stroke=\"black\" d=\"M197,-536.5C197,-536.5 104,-536.5 104,-536.5 98,-536.5 92,-530.5 92,-524.5 92,-524.5 92,-480.5 92,-480.5 92,-474.5 98,-468.5 104,-468.5 104,-468.5 197,-468.5 197,-468.5 203,-468.5 209,-474.5 209,-480.5 209,-480.5 209,-524.5 209,-524.5 209,-530.5 203,-536.5 197,-536.5\"/>\n<text text-anchor=\"start\" x=\"110.5\" y=\"-521.3\" font-family=\"Helvetica,sans-Serif\" font-size=\"14.00\">entropy = 0.0</text>\n<text text-anchor=\"start\" x=\"109.5\" y=\"-506.3\" font-family=\"Helvetica,sans-Serif\" font-size=\"14.00\">samples = 39</text>\n<text text-anchor=\"start\" x=\"100\" y=\"-491.3\" font-family=\"Helvetica,sans-Serif\" font-size=\"14.00\">value = [39, 0, 0]</text>\n<text text-anchor=\"start\" x=\"107\" y=\"-476.3\" font-family=\"Helvetica,sans-Serif\" font-size=\"14.00\">class = setosa</text>\n</g>\n<!-- 0&#45;&gt;1 -->\n<g id=\"edge1\" class=\"edge\">\n<title>0&#45;&gt;1</title>\n<path fill=\"none\" stroke=\"black\" d=\"M200.79,-579.91C193.38,-568.65 185.33,-556.42 177.88,-545.11\"/>\n<polygon fill=\"black\" stroke=\"black\" points=\"180.75,-543.1 172.33,-536.67 174.9,-546.94 180.75,-543.1\"/>\n<text text-anchor=\"middle\" x=\"167.28\" y=\"-557.45\" font-family=\"Helvetica,sans-Serif\" font-size=\"14.00\">True</text>\n</g>\n<!-- 2 -->\n<g id=\"node3\" class=\"node\">\n<title>2</title>\n<path fill=\"#f6f1fd\" stroke=\"black\" d=\"M369.5,-544C369.5,-544 239.5,-544 239.5,-544 233.5,-544 227.5,-538 227.5,-532 227.5,-532 227.5,-473 227.5,-473 227.5,-467 233.5,-461 239.5,-461 239.5,-461 369.5,-461 369.5,-461 375.5,-461 381.5,-467 381.5,-473 381.5,-473 381.5,-532 381.5,-532 381.5,-538 375.5,-544 369.5,-544\"/>\n<text text-anchor=\"start\" x=\"235.5\" y=\"-528.8\" font-family=\"Helvetica,sans-Serif\" font-size=\"14.00\">petal width (cm) ≤ 1.75</text>\n<text text-anchor=\"start\" x=\"257\" y=\"-513.8\" font-family=\"Helvetica,sans-Serif\" font-size=\"14.00\">entropy = 0.999</text>\n<text text-anchor=\"start\" x=\"263.5\" y=\"-498.8\" font-family=\"Helvetica,sans-Serif\" font-size=\"14.00\">samples = 81</text>\n<text text-anchor=\"start\" x=\"250\" y=\"-483.8\" font-family=\"Helvetica,sans-Serif\" font-size=\"14.00\">value = [0, 39, 42]</text>\n<text text-anchor=\"start\" x=\"256\" y=\"-468.8\" font-family=\"Helvetica,sans-Serif\" font-size=\"14.00\">class = virginica</text>\n</g>\n<!-- 0&#45;&gt;2 -->\n<g id=\"edge2\" class=\"edge\">\n<title>0&#45;&gt;2</title>\n<path fill=\"none\" stroke=\"black\" d=\"M254.21,-579.91C260.01,-571.1 266.2,-561.7 272.18,-552.61\"/>\n<polygon fill=\"black\" stroke=\"black\" points=\"275.26,-554.3 277.83,-544.02 269.41,-550.45 275.26,-554.3\"/>\n<text text-anchor=\"middle\" x=\"282.88\" y=\"-564.81\" font-family=\"Helvetica,sans-Serif\" font-size=\"14.00\">False</text>\n</g>\n<!-- 3 -->\n<g id=\"node4\" class=\"node\">\n<title>3</title>\n<path fill=\"#4ee88e\" stroke=\"black\" d=\"M284,-425C284,-425 149,-425 149,-425 143,-425 137,-419 137,-413 137,-413 137,-354 137,-354 137,-348 143,-342 149,-342 149,-342 284,-342 284,-342 290,-342 296,-348 296,-354 296,-354 296,-413 296,-413 296,-419 290,-425 284,-425\"/>\n<text text-anchor=\"start\" x=\"145\" y=\"-409.8\" font-family=\"Helvetica,sans-Serif\" font-size=\"14.00\">petal length (cm) ≤ 4.95</text>\n<text text-anchor=\"start\" x=\"169\" y=\"-394.8\" font-family=\"Helvetica,sans-Serif\" font-size=\"14.00\">entropy = 0.454</text>\n<text text-anchor=\"start\" x=\"175.5\" y=\"-379.8\" font-family=\"Helvetica,sans-Serif\" font-size=\"14.00\">samples = 42</text>\n<text text-anchor=\"start\" x=\"166\" y=\"-364.8\" font-family=\"Helvetica,sans-Serif\" font-size=\"14.00\">value = [0, 38, 4]</text>\n<text text-anchor=\"start\" x=\"164\" y=\"-349.8\" font-family=\"Helvetica,sans-Serif\" font-size=\"14.00\">class = versicolor</text>\n</g>\n<!-- 2&#45;&gt;3 -->\n<g id=\"edge3\" class=\"edge\">\n<title>2&#45;&gt;3</title>\n<path fill=\"none\" stroke=\"black\" d=\"M273.97,-460.91C267.21,-451.92 259.98,-442.32 253.02,-433.05\"/>\n<polygon fill=\"black\" stroke=\"black\" points=\"255.79,-430.91 246.98,-425.02 250.19,-435.12 255.79,-430.91\"/>\n</g>\n<!-- 10 -->\n<g id=\"node11\" class=\"node\">\n<title>10</title>\n<path fill=\"#843ee6\" stroke=\"black\" d=\"M461,-425C461,-425 326,-425 326,-425 320,-425 314,-419 314,-413 314,-413 314,-354 314,-354 314,-348 320,-342 326,-342 326,-342 461,-342 461,-342 467,-342 473,-348 473,-354 473,-354 473,-413 473,-413 473,-419 467,-425 461,-425\"/>\n<text text-anchor=\"start\" x=\"322\" y=\"-409.8\" font-family=\"Helvetica,sans-Serif\" font-size=\"14.00\">petal length (cm) ≤ 4.85</text>\n<text text-anchor=\"start\" x=\"346\" y=\"-394.8\" font-family=\"Helvetica,sans-Serif\" font-size=\"14.00\">entropy = 0.172</text>\n<text text-anchor=\"start\" x=\"352.5\" y=\"-379.8\" font-family=\"Helvetica,sans-Serif\" font-size=\"14.00\">samples = 39</text>\n<text text-anchor=\"start\" x=\"343\" y=\"-364.8\" font-family=\"Helvetica,sans-Serif\" font-size=\"14.00\">value = [0, 1, 38]</text>\n<text text-anchor=\"start\" x=\"345\" y=\"-349.8\" font-family=\"Helvetica,sans-Serif\" font-size=\"14.00\">class = virginica</text>\n</g>\n<!-- 2&#45;&gt;10 -->\n<g id=\"edge10\" class=\"edge\">\n<title>2&#45;&gt;10</title>\n<path fill=\"none\" stroke=\"black\" d=\"M335.38,-460.91C342.21,-451.92 349.52,-442.32 356.57,-433.05\"/>\n<polygon fill=\"black\" stroke=\"black\" points=\"359.41,-435.1 362.68,-425.02 353.84,-430.86 359.41,-435.1\"/>\n</g>\n<!-- 4 -->\n<g id=\"node5\" class=\"node\">\n<title>4</title>\n<path fill=\"#39e581\" stroke=\"black\" d=\"M109,-298.5C109,-298.5 12,-298.5 12,-298.5 6,-298.5 0,-292.5 0,-286.5 0,-286.5 0,-242.5 0,-242.5 0,-236.5 6,-230.5 12,-230.5 12,-230.5 109,-230.5 109,-230.5 115,-230.5 121,-236.5 121,-242.5 121,-242.5 121,-286.5 121,-286.5 121,-292.5 115,-298.5 109,-298.5\"/>\n<text text-anchor=\"start\" x=\"20.5\" y=\"-283.3\" font-family=\"Helvetica,sans-Serif\" font-size=\"14.00\">entropy = 0.0</text>\n<text text-anchor=\"start\" x=\"19.5\" y=\"-268.3\" font-family=\"Helvetica,sans-Serif\" font-size=\"14.00\">samples = 36</text>\n<text text-anchor=\"start\" x=\"10\" y=\"-253.3\" font-family=\"Helvetica,sans-Serif\" font-size=\"14.00\">value = [0, 36, 0]</text>\n<text text-anchor=\"start\" x=\"8\" y=\"-238.3\" font-family=\"Helvetica,sans-Serif\" font-size=\"14.00\">class = versicolor</text>\n</g>\n<!-- 3&#45;&gt;4 -->\n<g id=\"edge4\" class=\"edge\">\n<title>3&#45;&gt;4</title>\n<path fill=\"none\" stroke=\"black\" d=\"M162.38,-341.91C146.34,-329.88 128.81,-316.73 112.89,-304.79\"/>\n<polygon fill=\"black\" stroke=\"black\" points=\"114.82,-301.87 104.72,-298.67 110.62,-307.47 114.82,-301.87\"/>\n</g>\n<!-- 5 -->\n<g id=\"node6\" class=\"node\">\n<title>5</title>\n<path fill=\"#c09cf2\" stroke=\"black\" d=\"M281.5,-306C281.5,-306 151.5,-306 151.5,-306 145.5,-306 139.5,-300 139.5,-294 139.5,-294 139.5,-235 139.5,-235 139.5,-229 145.5,-223 151.5,-223 151.5,-223 281.5,-223 281.5,-223 287.5,-223 293.5,-229 293.5,-235 293.5,-235 293.5,-294 293.5,-294 293.5,-300 287.5,-306 281.5,-306\"/>\n<text text-anchor=\"start\" x=\"147.5\" y=\"-290.8\" font-family=\"Helvetica,sans-Serif\" font-size=\"14.00\">petal width (cm) ≤ 1.55</text>\n<text text-anchor=\"start\" x=\"169\" y=\"-275.8\" font-family=\"Helvetica,sans-Serif\" font-size=\"14.00\">entropy = 0.918</text>\n<text text-anchor=\"start\" x=\"179\" y=\"-260.8\" font-family=\"Helvetica,sans-Serif\" font-size=\"14.00\">samples = 6</text>\n<text text-anchor=\"start\" x=\"169.5\" y=\"-245.8\" font-family=\"Helvetica,sans-Serif\" font-size=\"14.00\">value = [0, 2, 4]</text>\n<text text-anchor=\"start\" x=\"168\" y=\"-230.8\" font-family=\"Helvetica,sans-Serif\" font-size=\"14.00\">class = virginica</text>\n</g>\n<!-- 3&#45;&gt;5 -->\n<g id=\"edge5\" class=\"edge\">\n<title>3&#45;&gt;5</title>\n<path fill=\"none\" stroke=\"black\" d=\"M216.5,-341.91C216.5,-333.65 216.5,-324.86 216.5,-316.3\"/>\n<polygon fill=\"black\" stroke=\"black\" points=\"220,-316.02 216.5,-306.02 213,-316.02 220,-316.02\"/>\n</g>\n<!-- 6 -->\n<g id=\"node7\" class=\"node\">\n<title>6</title>\n<path fill=\"#8139e5\" stroke=\"black\" d=\"M109,-179.5C109,-179.5 20,-179.5 20,-179.5 14,-179.5 8,-173.5 8,-167.5 8,-167.5 8,-123.5 8,-123.5 8,-117.5 14,-111.5 20,-111.5 20,-111.5 109,-111.5 109,-111.5 115,-111.5 121,-117.5 121,-123.5 121,-123.5 121,-167.5 121,-167.5 121,-173.5 115,-179.5 109,-179.5\"/>\n<text text-anchor=\"start\" x=\"24.5\" y=\"-164.3\" font-family=\"Helvetica,sans-Serif\" font-size=\"14.00\">entropy = 0.0</text>\n<text text-anchor=\"start\" x=\"27\" y=\"-149.3\" font-family=\"Helvetica,sans-Serif\" font-size=\"14.00\">samples = 3</text>\n<text text-anchor=\"start\" x=\"17.5\" y=\"-134.3\" font-family=\"Helvetica,sans-Serif\" font-size=\"14.00\">value = [0, 0, 3]</text>\n<text text-anchor=\"start\" x=\"16\" y=\"-119.3\" font-family=\"Helvetica,sans-Serif\" font-size=\"14.00\">class = virginica</text>\n</g>\n<!-- 5&#45;&gt;6 -->\n<g id=\"edge6\" class=\"edge\">\n<title>5&#45;&gt;6</title>\n<path fill=\"none\" stroke=\"black\" d=\"M163.76,-222.91C148.14,-210.88 131.06,-197.73 115.54,-185.79\"/>\n<polygon fill=\"black\" stroke=\"black\" points=\"117.65,-182.99 107.59,-179.67 113.38,-188.54 117.65,-182.99\"/>\n</g>\n<!-- 7 -->\n<g id=\"node8\" class=\"node\">\n<title>7</title>\n<path fill=\"#9cf2c0\" stroke=\"black\" d=\"M289.5,-187C289.5,-187 151.5,-187 151.5,-187 145.5,-187 139.5,-181 139.5,-175 139.5,-175 139.5,-116 139.5,-116 139.5,-110 145.5,-104 151.5,-104 151.5,-104 289.5,-104 289.5,-104 295.5,-104 301.5,-110 301.5,-116 301.5,-116 301.5,-175 301.5,-175 301.5,-181 295.5,-187 289.5,-187\"/>\n<text text-anchor=\"start\" x=\"147.5\" y=\"-171.8\" font-family=\"Helvetica,sans-Serif\" font-size=\"14.00\">sepal length (cm) ≤ 6.95</text>\n<text text-anchor=\"start\" x=\"173\" y=\"-156.8\" font-family=\"Helvetica,sans-Serif\" font-size=\"14.00\">entropy = 0.918</text>\n<text text-anchor=\"start\" x=\"183\" y=\"-141.8\" font-family=\"Helvetica,sans-Serif\" font-size=\"14.00\">samples = 3</text>\n<text text-anchor=\"start\" x=\"173.5\" y=\"-126.8\" font-family=\"Helvetica,sans-Serif\" font-size=\"14.00\">value = [0, 2, 1]</text>\n<text text-anchor=\"start\" x=\"168\" y=\"-111.8\" font-family=\"Helvetica,sans-Serif\" font-size=\"14.00\">class = versicolor</text>\n</g>\n<!-- 5&#45;&gt;7 -->\n<g id=\"edge7\" class=\"edge\">\n<title>5&#45;&gt;7</title>\n<path fill=\"none\" stroke=\"black\" d=\"M217.89,-222.91C218.17,-214.56 218.48,-205.67 218.77,-197.02\"/>\n<polygon fill=\"black\" stroke=\"black\" points=\"222.27,-197.13 219.11,-187.02 215.27,-196.9 222.27,-197.13\"/>\n</g>\n<!-- 8 -->\n<g id=\"node9\" class=\"node\">\n<title>8</title>\n<path fill=\"#39e581\" stroke=\"black\" d=\"M202,-68C202,-68 105,-68 105,-68 99,-68 93,-62 93,-56 93,-56 93,-12 93,-12 93,-6 99,0 105,0 105,0 202,0 202,0 208,0 214,-6 214,-12 214,-12 214,-56 214,-56 214,-62 208,-68 202,-68\"/>\n<text text-anchor=\"start\" x=\"113.5\" y=\"-52.8\" font-family=\"Helvetica,sans-Serif\" font-size=\"14.00\">entropy = 0.0</text>\n<text text-anchor=\"start\" x=\"116\" y=\"-37.8\" font-family=\"Helvetica,sans-Serif\" font-size=\"14.00\">samples = 2</text>\n<text text-anchor=\"start\" x=\"106.5\" y=\"-22.8\" font-family=\"Helvetica,sans-Serif\" font-size=\"14.00\">value = [0, 2, 0]</text>\n<text text-anchor=\"start\" x=\"101\" y=\"-7.8\" font-family=\"Helvetica,sans-Serif\" font-size=\"14.00\">class = versicolor</text>\n</g>\n<!-- 7&#45;&gt;8 -->\n<g id=\"edge8\" class=\"edge\">\n<title>7&#45;&gt;8</title>\n<path fill=\"none\" stroke=\"black\" d=\"M195.55,-103.73C190.19,-94.97 184.52,-85.7 179.14,-76.91\"/>\n<polygon fill=\"black\" stroke=\"black\" points=\"182.08,-75 173.88,-68.3 176.11,-78.66 182.08,-75\"/>\n</g>\n<!-- 9 -->\n<g id=\"node10\" class=\"node\">\n<title>9</title>\n<path fill=\"#8139e5\" stroke=\"black\" d=\"M333,-68C333,-68 244,-68 244,-68 238,-68 232,-62 232,-56 232,-56 232,-12 232,-12 232,-6 238,0 244,0 244,0 333,0 333,0 339,0 345,-6 345,-12 345,-12 345,-56 345,-56 345,-62 339,-68 333,-68\"/>\n<text text-anchor=\"start\" x=\"248.5\" y=\"-52.8\" font-family=\"Helvetica,sans-Serif\" font-size=\"14.00\">entropy = 0.0</text>\n<text text-anchor=\"start\" x=\"251\" y=\"-37.8\" font-family=\"Helvetica,sans-Serif\" font-size=\"14.00\">samples = 1</text>\n<text text-anchor=\"start\" x=\"241.5\" y=\"-22.8\" font-family=\"Helvetica,sans-Serif\" font-size=\"14.00\">value = [0, 0, 1]</text>\n<text text-anchor=\"start\" x=\"240\" y=\"-7.8\" font-family=\"Helvetica,sans-Serif\" font-size=\"14.00\">class = virginica</text>\n</g>\n<!-- 7&#45;&gt;9 -->\n<g id=\"edge9\" class=\"edge\">\n<title>7&#45;&gt;9</title>\n<path fill=\"none\" stroke=\"black\" d=\"M245.82,-103.73C251.26,-94.97 257.01,-85.7 262.48,-76.91\"/>\n<polygon fill=\"black\" stroke=\"black\" points=\"265.52,-78.64 267.82,-68.3 259.57,-74.95 265.52,-78.64\"/>\n</g>\n<!-- 11 -->\n<g id=\"node12\" class=\"node\">\n<title>11</title>\n<path fill=\"#ffffff\" stroke=\"black\" d=\"M462.5,-306C462.5,-306 324.5,-306 324.5,-306 318.5,-306 312.5,-300 312.5,-294 312.5,-294 312.5,-235 312.5,-235 312.5,-229 318.5,-223 324.5,-223 324.5,-223 462.5,-223 462.5,-223 468.5,-223 474.5,-229 474.5,-235 474.5,-235 474.5,-294 474.5,-294 474.5,-300 468.5,-306 462.5,-306\"/>\n<text text-anchor=\"start\" x=\"320.5\" y=\"-290.8\" font-family=\"Helvetica,sans-Serif\" font-size=\"14.00\">sepal length (cm) ≤ 5.95</text>\n<text text-anchor=\"start\" x=\"353.5\" y=\"-275.8\" font-family=\"Helvetica,sans-Serif\" font-size=\"14.00\">entropy = 1.0</text>\n<text text-anchor=\"start\" x=\"356\" y=\"-260.8\" font-family=\"Helvetica,sans-Serif\" font-size=\"14.00\">samples = 2</text>\n<text text-anchor=\"start\" x=\"346.5\" y=\"-245.8\" font-family=\"Helvetica,sans-Serif\" font-size=\"14.00\">value = [0, 1, 1]</text>\n<text text-anchor=\"start\" x=\"341\" y=\"-230.8\" font-family=\"Helvetica,sans-Serif\" font-size=\"14.00\">class = versicolor</text>\n</g>\n<!-- 10&#45;&gt;11 -->\n<g id=\"edge11\" class=\"edge\">\n<title>10&#45;&gt;11</title>\n<path fill=\"none\" stroke=\"black\" d=\"M393.5,-341.91C393.5,-333.65 393.5,-324.86 393.5,-316.3\"/>\n<polygon fill=\"black\" stroke=\"black\" points=\"397,-316.02 393.5,-306.02 390,-316.02 397,-316.02\"/>\n</g>\n<!-- 14 -->\n<g id=\"node15\" class=\"node\">\n<title>14</title>\n<path fill=\"#8139e5\" stroke=\"black\" d=\"M598,-298.5C598,-298.5 505,-298.5 505,-298.5 499,-298.5 493,-292.5 493,-286.5 493,-286.5 493,-242.5 493,-242.5 493,-236.5 499,-230.5 505,-230.5 505,-230.5 598,-230.5 598,-230.5 604,-230.5 610,-236.5 610,-242.5 610,-242.5 610,-286.5 610,-286.5 610,-292.5 604,-298.5 598,-298.5\"/>\n<text text-anchor=\"start\" x=\"511.5\" y=\"-283.3\" font-family=\"Helvetica,sans-Serif\" font-size=\"14.00\">entropy = 0.0</text>\n<text text-anchor=\"start\" x=\"510.5\" y=\"-268.3\" font-family=\"Helvetica,sans-Serif\" font-size=\"14.00\">samples = 37</text>\n<text text-anchor=\"start\" x=\"501\" y=\"-253.3\" font-family=\"Helvetica,sans-Serif\" font-size=\"14.00\">value = [0, 0, 37]</text>\n<text text-anchor=\"start\" x=\"503\" y=\"-238.3\" font-family=\"Helvetica,sans-Serif\" font-size=\"14.00\">class = virginica</text>\n</g>\n<!-- 10&#45;&gt;14 -->\n<g id=\"edge14\" class=\"edge\">\n<title>10&#45;&gt;14</title>\n<path fill=\"none\" stroke=\"black\" d=\"M448.32,-341.91C464.56,-329.88 482.31,-316.73 498.44,-304.79\"/>\n<polygon fill=\"black\" stroke=\"black\" points=\"500.76,-307.43 506.71,-298.67 496.59,-301.81 500.76,-307.43\"/>\n</g>\n<!-- 12 -->\n<g id=\"node13\" class=\"node\">\n<title>12</title>\n<path fill=\"#39e581\" stroke=\"black\" d=\"M437,-179.5C437,-179.5 340,-179.5 340,-179.5 334,-179.5 328,-173.5 328,-167.5 328,-167.5 328,-123.5 328,-123.5 328,-117.5 334,-111.5 340,-111.5 340,-111.5 437,-111.5 437,-111.5 443,-111.5 449,-117.5 449,-123.5 449,-123.5 449,-167.5 449,-167.5 449,-173.5 443,-179.5 437,-179.5\"/>\n<text text-anchor=\"start\" x=\"348.5\" y=\"-164.3\" font-family=\"Helvetica,sans-Serif\" font-size=\"14.00\">entropy = 0.0</text>\n<text text-anchor=\"start\" x=\"351\" y=\"-149.3\" font-family=\"Helvetica,sans-Serif\" font-size=\"14.00\">samples = 1</text>\n<text text-anchor=\"start\" x=\"341.5\" y=\"-134.3\" font-family=\"Helvetica,sans-Serif\" font-size=\"14.00\">value = [0, 1, 0]</text>\n<text text-anchor=\"start\" x=\"336\" y=\"-119.3\" font-family=\"Helvetica,sans-Serif\" font-size=\"14.00\">class = versicolor</text>\n</g>\n<!-- 11&#45;&gt;12 -->\n<g id=\"edge12\" class=\"edge\">\n<title>11&#45;&gt;12</title>\n<path fill=\"none\" stroke=\"black\" d=\"M391.77,-222.91C391.31,-212.2 390.81,-200.62 390.35,-189.78\"/>\n<polygon fill=\"black\" stroke=\"black\" points=\"393.84,-189.51 389.92,-179.67 386.85,-189.81 393.84,-189.51\"/>\n</g>\n<!-- 13 -->\n<g id=\"node14\" class=\"node\">\n<title>13</title>\n<path fill=\"#8139e5\" stroke=\"black\" d=\"M568,-179.5C568,-179.5 479,-179.5 479,-179.5 473,-179.5 467,-173.5 467,-167.5 467,-167.5 467,-123.5 467,-123.5 467,-117.5 473,-111.5 479,-111.5 479,-111.5 568,-111.5 568,-111.5 574,-111.5 580,-117.5 580,-123.5 580,-123.5 580,-167.5 580,-167.5 580,-173.5 574,-179.5 568,-179.5\"/>\n<text text-anchor=\"start\" x=\"483.5\" y=\"-164.3\" font-family=\"Helvetica,sans-Serif\" font-size=\"14.00\">entropy = 0.0</text>\n<text text-anchor=\"start\" x=\"486\" y=\"-149.3\" font-family=\"Helvetica,sans-Serif\" font-size=\"14.00\">samples = 1</text>\n<text text-anchor=\"start\" x=\"476.5\" y=\"-134.3\" font-family=\"Helvetica,sans-Serif\" font-size=\"14.00\">value = [0, 0, 1]</text>\n<text text-anchor=\"start\" x=\"475\" y=\"-119.3\" font-family=\"Helvetica,sans-Serif\" font-size=\"14.00\">class = virginica</text>\n</g>\n<!-- 11&#45;&gt;13 -->\n<g id=\"edge13\" class=\"edge\">\n<title>11&#45;&gt;13</title>\n<path fill=\"none\" stroke=\"black\" d=\"M438.6,-222.91C451.72,-211.1 466.04,-198.22 479.11,-186.45\"/>\n<polygon fill=\"black\" stroke=\"black\" points=\"481.56,-188.96 486.65,-179.67 476.87,-183.76 481.56,-188.96\"/>\n</g>\n</g>\n</svg>\n"
          },
          "metadata": {},
          "execution_count": 35
        }
      ],
      "source": [
        "dot_data = tree.export_graphviz(cls, out_file=None, \n",
        "                      feature_names=iris.feature_names,  \n",
        "                      class_names=iris.target_names,  \n",
        "                      filled=True, rounded=True,  \n",
        "                      special_characters=True)  \n",
        "graph = graphviz.Source(dot_data)  \n",
        "graph "
      ]
    }
  ],
  "metadata": {
    "kernelspec": {
      "display_name": "Python 3",
      "language": "python",
      "name": "python3"
    },
    "language_info": {
      "codemirror_mode": {
        "name": "ipython",
        "version": 3
      },
      "file_extension": ".py",
      "mimetype": "text/x-python",
      "name": "python",
      "nbconvert_exporter": "python",
      "pygments_lexer": "ipython3",
      "version": "3.7.6"
    },
    "papermill": {
      "duration": 11.304328,
      "end_time": "2020-12-06T07:07:29.574004",
      "environment_variables": {},
      "exception": null,
      "input_path": "__notebook__.ipynb",
      "output_path": "__notebook__.ipynb",
      "parameters": {},
      "start_time": "2020-12-06T07:07:18.269676",
      "version": "2.1.0"
    },
    "colab": {
      "provenance": []
    }
  },
  "nbformat": 4,
  "nbformat_minor": 0
}